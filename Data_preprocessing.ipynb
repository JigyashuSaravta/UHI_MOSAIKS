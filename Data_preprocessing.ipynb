{
 "cells": [
  {
   "cell_type": "code",
   "id": "initial_id",
   "metadata": {
    "collapsed": true,
    "ExecuteTime": {
     "end_time": "2025-06-16T02:35:09.048497Z",
     "start_time": "2025-06-16T02:35:08.337700Z"
    }
   },
   "source": [
    "import main\n",
    "import pandas as pd\n",
    "import matplotlib.pyplot as plt\n",
    "import seaborn as sns"
   ],
   "outputs": [
    {
     "name": "stderr",
     "output_type": "stream",
     "text": [
      "/Users/jigs/anaconda3/lib/python3.11/site-packages/geopandas/_compat.py:123: UserWarning: The Shapely GEOS version (3.10.3-CAPI-1.16.1) is incompatible with the GEOS version PyGEOS was compiled with (3.10.4-CAPI-1.16.2). Conversions between both will be slow.\n",
      "  warnings.warn(\n"
     ]
    }
   ],
   "execution_count": 1
  },
  {
   "metadata": {
    "ExecuteTime": {
     "end_time": "2025-06-16T02:35:09.090274Z",
     "start_time": "2025-06-16T02:35:09.076922Z"
    }
   },
   "cell_type": "code",
   "source": [
    "# Load the file\n",
    "df = pd.read_csv(\"Training_data_uhi_index 2025-02-04.csv\")\n",
    "\n",
    "# Preview\n",
    "print(df.shape)\n",
    "print(df.columns)\n",
    "print(df.head())\n",
    "print(df.isnull().sum())\n"
   ],
   "id": "e052616ab58992ae",
   "outputs": [
    {
     "name": "stdout",
     "output_type": "stream",
     "text": [
      "(11269, 4)\n",
      "Index(['Longitude', 'Latitude', 'datetime', 'UHI Index'], dtype='object')\n",
      "   Longitude   Latitude          datetime  UHI Index\n",
      "0 -73.919037  40.814292  24-07-2021 15:53   1.034616\n",
      "1 -73.918978  40.814365  24-07-2021 15:53   1.028125\n",
      "2 -73.918927  40.814433  24-07-2021 15:53   1.028125\n",
      "3 -73.918875  40.814500  24-07-2021 15:53   1.025961\n",
      "4 -73.918827  40.814560  24-07-2021 15:53   1.025961\n",
      "Longitude    0\n",
      "Latitude     0\n",
      "datetime     0\n",
      "UHI Index    0\n",
      "dtype: int64\n"
     ]
    }
   ],
   "execution_count": 2
  },
  {
   "metadata": {
    "ExecuteTime": {
     "end_time": "2025-06-16T02:35:09.101662Z",
     "start_time": "2025-06-16T02:35:09.098040Z"
    }
   },
   "cell_type": "code",
   "source": [
    "df.rename(columns={\n",
    "    'Longitude': 'longitude',\n",
    "    'Latitude': 'latitude',\n",
    "    'datetime': 'timestamp',\n",
    "    'UHI Index': 'uhi_index'\n",
    "}, inplace=True)\n",
    "df['timestamp'] = pd.to_datetime(df['timestamp'], format=\"%d-%m-%Y %H:%M\")"
   ],
   "id": "51028e8f80ef1274",
   "outputs": [],
   "execution_count": 3
  },
  {
   "metadata": {
    "ExecuteTime": {
     "end_time": "2025-06-16T02:35:09.110636Z",
     "start_time": "2025-06-16T02:35:09.109408Z"
    }
   },
   "cell_type": "code",
   "source": [
    "# # Run the full batch extraction and save the result\n",
    "# features_df = main.batch_extract_features_with_cache(df, chunk_size=500)\n",
    "#\n",
    "# # Optionally, combine with the original UHI index\n",
    "# final_df = pd.concat([df.reset_index(drop=True), features_df], axis=1)\n",
    "#\n",
    "# # Save for training\n",
    "# final_df.to_csv(\"uhi_with_features.csv\", index=False)\n"
   ],
   "id": "6e979af466cefa07",
   "outputs": [],
   "execution_count": 4
  },
  {
   "metadata": {
    "ExecuteTime": {
     "end_time": "2025-06-16T02:35:09.118048Z",
     "start_time": "2025-06-16T02:35:09.116562Z"
    }
   },
   "cell_type": "code",
   "source": [
    "# # Load the dataset\n",
    "# df_features = pd.read_csv(\"uhi_with_features.csv\")\n",
    "#\n",
    "# # Basic shape and structure\n",
    "# print(f\"Shape: {df_features.shape}\")\n",
    "# print(\"First few columns:\", df_features.columns[:10].tolist())\n",
    "# print(\"Last few columns:\", df_features.columns[-10:].tolist())\n",
    "# print(\"\\nData types:\\n\", df_features.dtypes.head())\n",
    "# print(\"\\nMissing values:\\n\", df_features.isnull().sum().head())\n",
    "# print(\"\\nUHI Index stats:\\n\", df_features[\"uhi_index\"].describe())\n",
    "#\n",
    "# # Check for NaNs\n",
    "# print(\"\\nAny missing values in full dataset?:\", df_features.isnull().values.any())\n",
    "#\n",
    "# # Plot UHI Index distribution\n",
    "# plt.figure(figsize=(8, 4))\n",
    "# sns.histplot(df_features[\"uhi_index\"], bins=50, kde=True)\n",
    "# plt.title(\"Distribution of UHI Index\")\n",
    "# plt.xlabel(\"UHI Index\")\n",
    "# plt.ylabel(\"Frequency\")\n",
    "# plt.tight_layout()\n",
    "# plt.show()\n",
    "#\n",
    "# # Correlation with UHI index (just for first 20 features)\n",
    "# feature_cols = df_features.columns.difference([\"latitude\", \"longitude\", \"timestamp\", \"uhi_index\"])\n",
    "# correlations = df_features[feature_cols].iloc[:, :20].corrwith(df[\"uhi_index\"])\n",
    "# print(\"\\nSample correlations with UHI Index:\\n\", correlations.sort_values(ascending=False).head())\n",
    "#\n"
   ],
   "id": "3d8f64bc18ab35f8",
   "outputs": [],
   "execution_count": 5
  },
  {
   "metadata": {
    "ExecuteTime": {
     "end_time": "2025-06-16T02:35:09.125039Z",
     "start_time": "2025-06-16T02:35:09.123828Z"
    }
   },
   "cell_type": "code",
   "source": [
    "# # Load one cached feature file manually\n",
    "# chunk = pd.read_csv(\"features_cache/chunk_0.csv\")  # Adjust path if needed\n",
    "#\n",
    "# print(\"Chunk shape:\", chunk.shape)\n",
    "# print(chunk.head())\n",
    "# print(chunk.isnull().sum().head())\n"
   ],
   "id": "2b728db490a92d1a",
   "outputs": [],
   "execution_count": 6
  },
  {
   "metadata": {
    "ExecuteTime": {
     "end_time": "2025-06-16T02:35:09.136801Z",
     "start_time": "2025-06-16T02:35:09.135430Z"
    }
   },
   "cell_type": "code",
   "source": [
    "# from mosaiks import get_features\n",
    "#\n",
    "# latitudes = [40.814292]\n",
    "# longitudes = [-73.919037]\n",
    "# datetime = \"2021-07-24\"\n",
    "#\n",
    "# features_df = get_features(\n",
    "#     latitudes=latitudes,\n",
    "#     longitudes=longitudes,\n",
    "#     datetime=datetime,\n",
    "#     satellite_name=\"sentinel-2-l2a\",\n",
    "#     image_resolution=10,\n",
    "#     image_bands=[\"B02\", \"B03\", \"B04\", \"B08\"],\n",
    "#     image_width=3000,\n",
    "#     n_mosaiks_features=4000,\n",
    "#     parallelize=False,\n",
    "#     model_device=\"cpu\"\n",
    "# )\n",
    "#\n",
    "# print(features_df.head())\n"
   ],
   "id": "dd75d317ef47788b",
   "outputs": [],
   "execution_count": 7
  },
  {
   "metadata": {
    "ExecuteTime": {
     "end_time": "2025-06-16T02:35:09.146214Z",
     "start_time": "2025-06-16T02:35:09.144780Z"
    }
   },
   "cell_type": "code",
   "source": [
    "# # Check if the entire DataFrame is full of NaNs\n",
    "# if features_df.isnull().all().all():\n",
    "#     print(\"❌ features_df is completely filled with NaNs.\")\n",
    "# else:\n",
    "#     print(\"✅ features_df contains valid (non-NaN) values.\")\n"
   ],
   "id": "5c8fd79590c2efdf",
   "outputs": [],
   "execution_count": 8
  },
  {
   "metadata": {
    "ExecuteTime": {
     "end_time": "2025-06-16T02:35:39.385692Z",
     "start_time": "2025-06-16T02:35:09.153574Z"
    }
   },
   "cell_type": "code",
   "source": [
    "sample_df = df[['latitude', 'longitude']].head(10)\n",
    "\n",
    "features = main.batch_extract_features_with_cache(\n",
    "    sample_df,\n",
    "    chunk_size=10,\n",
    "    cache_dir=\"features_cache_test\",\n",
    "    datetime=\"2021-07-17/2021-07-31\",  # broad enough\n",
    "    satellite=\"sentinel-2-l2a\",\n",
    "    bands=[\"B02\", \"B03\", \"B04\", \"B08\"],\n",
    "    resolution=10\n",
    ")\n"
   ],
   "id": "5a1d9389adb1b036",
   "outputs": [
    {
     "name": "stdout",
     "output_type": "stream",
     "text": [
      "[Fetch] Processing chunk 0\n",
      "[Debug] Locations sample: [(40.81429167, -73.91903667), (40.814365, -73.91897833), (40.81443333, -73.91892667)]\n",
      "[Step 1] Converting locations to GeoDataFrame\n",
      "[Step 2] Connecting to Planetary Computer STAC API\n",
      "[Step 3] Running STAC search with fixed NYC bounding box\n",
      "[Debug] Bounding box used: [-74.03, 40.69, -73.9, 40.88]\n"
     ]
    },
    {
     "name": "stderr",
     "output_type": "stream",
     "text": [
      "/Users/jigs/anaconda3/lib/python3.11/site-packages/pystac_client/item_search.py:826: FutureWarning: get_items() is deprecated, use items() instead\n",
      "  warnings.warn(\n"
     ]
    },
    {
     "name": "stdout",
     "output_type": "stream",
     "text": [
      "[Step 3a] Found 1 matching items\n",
      "[Step 4] Signing STAC items\n",
      "[Debug] First item asset keys: ['AOT', 'B01', 'B02', 'B03', 'B04', 'B05', 'B06', 'B07', 'B08', 'B09', 'B11', 'B12', 'B8A', 'SCL', 'WVP', 'visual', 'preview', 'safe-manifest', 'granule-metadata', 'inspire-metadata', 'product-metadata', 'datastrip-metadata', 'tilejson', 'rendered_preview']\n",
      "[Step 5] Stacking assets using stackstac\n",
      "[Debug] Stacked dimensions: ('time', 'band', 'y', 'x')\n",
      "[Debug] Stacked shape: (1, 4, 11118, 10165)\n",
      "[Debug] time size: 1\n",
      "[Debug] band size: 4\n",
      "[Error] Attempt 1 for chunk 0 failed: Index contains duplicate entries, cannot reshape\n",
      "[Debug] Locations sample: [(40.81429167, -73.91903667), (40.814365, -73.91897833), (40.81443333, -73.91892667)]\n",
      "[Step 1] Converting locations to GeoDataFrame\n",
      "[Step 2] Connecting to Planetary Computer STAC API\n",
      "[Step 3] Running STAC search with fixed NYC bounding box\n",
      "[Debug] Bounding box used: [-74.03, 40.69, -73.9, 40.88]\n"
     ]
    },
    {
     "name": "stderr",
     "output_type": "stream",
     "text": [
      "/Users/jigs/anaconda3/lib/python3.11/site-packages/pystac_client/item_search.py:826: FutureWarning: get_items() is deprecated, use items() instead\n",
      "  warnings.warn(\n"
     ]
    },
    {
     "name": "stdout",
     "output_type": "stream",
     "text": [
      "[Step 3a] Found 1 matching items\n",
      "[Step 4] Signing STAC items\n",
      "[Debug] First item asset keys: ['AOT', 'B01', 'B02', 'B03', 'B04', 'B05', 'B06', 'B07', 'B08', 'B09', 'B11', 'B12', 'B8A', 'SCL', 'WVP', 'visual', 'preview', 'safe-manifest', 'granule-metadata', 'inspire-metadata', 'product-metadata', 'datastrip-metadata', 'tilejson', 'rendered_preview']\n",
      "[Step 5] Stacking assets using stackstac\n",
      "[Debug] Stacked dimensions: ('time', 'band', 'y', 'x')\n",
      "[Debug] Stacked shape: (1, 4, 11118, 10165)\n",
      "[Debug] time size: 1\n",
      "[Debug] band size: 4\n",
      "[Error] Attempt 2 for chunk 0 failed: Index contains duplicate entries, cannot reshape\n",
      "[Debug] Locations sample: [(40.81429167, -73.91903667), (40.814365, -73.91897833), (40.81443333, -73.91892667)]\n",
      "[Step 1] Converting locations to GeoDataFrame\n",
      "[Step 2] Connecting to Planetary Computer STAC API\n",
      "[Step 3] Running STAC search with fixed NYC bounding box\n",
      "[Debug] Bounding box used: [-74.03, 40.69, -73.9, 40.88]\n"
     ]
    },
    {
     "name": "stderr",
     "output_type": "stream",
     "text": [
      "/Users/jigs/anaconda3/lib/python3.11/site-packages/pystac_client/item_search.py:826: FutureWarning: get_items() is deprecated, use items() instead\n",
      "  warnings.warn(\n"
     ]
    },
    {
     "name": "stdout",
     "output_type": "stream",
     "text": [
      "[Step 3a] Found 1 matching items\n",
      "[Step 4] Signing STAC items\n",
      "[Debug] First item asset keys: ['AOT', 'B01', 'B02', 'B03', 'B04', 'B05', 'B06', 'B07', 'B08', 'B09', 'B11', 'B12', 'B8A', 'SCL', 'WVP', 'visual', 'preview', 'safe-manifest', 'granule-metadata', 'inspire-metadata', 'product-metadata', 'datastrip-metadata', 'tilejson', 'rendered_preview']\n",
      "[Step 5] Stacking assets using stackstac\n",
      "[Debug] Stacked dimensions: ('time', 'band', 'y', 'x')\n",
      "[Debug] Stacked shape: (1, 4, 11118, 10165)\n",
      "[Debug] time size: 1\n",
      "[Debug] band size: 4\n",
      "[Error] Attempt 3 for chunk 0 failed: Index contains duplicate entries, cannot reshape\n",
      "[Fail] Skipping chunk 0\n"
     ]
    }
   ],
   "execution_count": 9
  },
  {
   "metadata": {
    "ExecuteTime": {
     "end_time": "2025-06-16T02:35:40.109424Z",
     "start_time": "2025-06-16T02:35:39.408306Z"
    }
   },
   "cell_type": "code",
   "source": "df_chunk = pd.read_csv(\"features_cache_test/chunk_0.csv\")",
   "id": "14dea1d571897a9f",
   "outputs": [
    {
     "ename": "FileNotFoundError",
     "evalue": "[Errno 2] No such file or directory: 'features_cache_test/chunk_0.csv'",
     "output_type": "error",
     "traceback": [
      "\u001B[0;31m---------------------------------------------------------------------------\u001B[0m",
      "\u001B[0;31mFileNotFoundError\u001B[0m                         Traceback (most recent call last)",
      "Cell \u001B[0;32mIn[10], line 1\u001B[0m\n\u001B[0;32m----> 1\u001B[0m df_chunk \u001B[38;5;241m=\u001B[39m pd\u001B[38;5;241m.\u001B[39mread_csv(\u001B[38;5;124m\"\u001B[39m\u001B[38;5;124mfeatures_cache_test/chunk_0.csv\u001B[39m\u001B[38;5;124m\"\u001B[39m)\n",
      "File \u001B[0;32m~/anaconda3/lib/python3.11/site-packages/pandas/io/parsers/readers.py:1026\u001B[0m, in \u001B[0;36mread_csv\u001B[0;34m(filepath_or_buffer, sep, delimiter, header, names, index_col, usecols, dtype, engine, converters, true_values, false_values, skipinitialspace, skiprows, skipfooter, nrows, na_values, keep_default_na, na_filter, verbose, skip_blank_lines, parse_dates, infer_datetime_format, keep_date_col, date_parser, date_format, dayfirst, cache_dates, iterator, chunksize, compression, thousands, decimal, lineterminator, quotechar, quoting, doublequote, escapechar, comment, encoding, encoding_errors, dialect, on_bad_lines, delim_whitespace, low_memory, memory_map, float_precision, storage_options, dtype_backend)\u001B[0m\n\u001B[1;32m   1013\u001B[0m kwds_defaults \u001B[38;5;241m=\u001B[39m _refine_defaults_read(\n\u001B[1;32m   1014\u001B[0m     dialect,\n\u001B[1;32m   1015\u001B[0m     delimiter,\n\u001B[0;32m   (...)\u001B[0m\n\u001B[1;32m   1022\u001B[0m     dtype_backend\u001B[38;5;241m=\u001B[39mdtype_backend,\n\u001B[1;32m   1023\u001B[0m )\n\u001B[1;32m   1024\u001B[0m kwds\u001B[38;5;241m.\u001B[39mupdate(kwds_defaults)\n\u001B[0;32m-> 1026\u001B[0m \u001B[38;5;28;01mreturn\u001B[39;00m _read(filepath_or_buffer, kwds)\n",
      "File \u001B[0;32m~/anaconda3/lib/python3.11/site-packages/pandas/io/parsers/readers.py:620\u001B[0m, in \u001B[0;36m_read\u001B[0;34m(filepath_or_buffer, kwds)\u001B[0m\n\u001B[1;32m    617\u001B[0m _validate_names(kwds\u001B[38;5;241m.\u001B[39mget(\u001B[38;5;124m\"\u001B[39m\u001B[38;5;124mnames\u001B[39m\u001B[38;5;124m\"\u001B[39m, \u001B[38;5;28;01mNone\u001B[39;00m))\n\u001B[1;32m    619\u001B[0m \u001B[38;5;66;03m# Create the parser.\u001B[39;00m\n\u001B[0;32m--> 620\u001B[0m parser \u001B[38;5;241m=\u001B[39m TextFileReader(filepath_or_buffer, \u001B[38;5;241m*\u001B[39m\u001B[38;5;241m*\u001B[39mkwds)\n\u001B[1;32m    622\u001B[0m \u001B[38;5;28;01mif\u001B[39;00m chunksize \u001B[38;5;129;01mor\u001B[39;00m iterator:\n\u001B[1;32m    623\u001B[0m     \u001B[38;5;28;01mreturn\u001B[39;00m parser\n",
      "File \u001B[0;32m~/anaconda3/lib/python3.11/site-packages/pandas/io/parsers/readers.py:1620\u001B[0m, in \u001B[0;36mTextFileReader.__init__\u001B[0;34m(self, f, engine, **kwds)\u001B[0m\n\u001B[1;32m   1617\u001B[0m     \u001B[38;5;28mself\u001B[39m\u001B[38;5;241m.\u001B[39moptions[\u001B[38;5;124m\"\u001B[39m\u001B[38;5;124mhas_index_names\u001B[39m\u001B[38;5;124m\"\u001B[39m] \u001B[38;5;241m=\u001B[39m kwds[\u001B[38;5;124m\"\u001B[39m\u001B[38;5;124mhas_index_names\u001B[39m\u001B[38;5;124m\"\u001B[39m]\n\u001B[1;32m   1619\u001B[0m \u001B[38;5;28mself\u001B[39m\u001B[38;5;241m.\u001B[39mhandles: IOHandles \u001B[38;5;241m|\u001B[39m \u001B[38;5;28;01mNone\u001B[39;00m \u001B[38;5;241m=\u001B[39m \u001B[38;5;28;01mNone\u001B[39;00m\n\u001B[0;32m-> 1620\u001B[0m \u001B[38;5;28mself\u001B[39m\u001B[38;5;241m.\u001B[39m_engine \u001B[38;5;241m=\u001B[39m \u001B[38;5;28mself\u001B[39m\u001B[38;5;241m.\u001B[39m_make_engine(f, \u001B[38;5;28mself\u001B[39m\u001B[38;5;241m.\u001B[39mengine)\n",
      "File \u001B[0;32m~/anaconda3/lib/python3.11/site-packages/pandas/io/parsers/readers.py:1880\u001B[0m, in \u001B[0;36mTextFileReader._make_engine\u001B[0;34m(self, f, engine)\u001B[0m\n\u001B[1;32m   1878\u001B[0m     \u001B[38;5;28;01mif\u001B[39;00m \u001B[38;5;124m\"\u001B[39m\u001B[38;5;124mb\u001B[39m\u001B[38;5;124m\"\u001B[39m \u001B[38;5;129;01mnot\u001B[39;00m \u001B[38;5;129;01min\u001B[39;00m mode:\n\u001B[1;32m   1879\u001B[0m         mode \u001B[38;5;241m+\u001B[39m\u001B[38;5;241m=\u001B[39m \u001B[38;5;124m\"\u001B[39m\u001B[38;5;124mb\u001B[39m\u001B[38;5;124m\"\u001B[39m\n\u001B[0;32m-> 1880\u001B[0m \u001B[38;5;28mself\u001B[39m\u001B[38;5;241m.\u001B[39mhandles \u001B[38;5;241m=\u001B[39m get_handle(\n\u001B[1;32m   1881\u001B[0m     f,\n\u001B[1;32m   1882\u001B[0m     mode,\n\u001B[1;32m   1883\u001B[0m     encoding\u001B[38;5;241m=\u001B[39m\u001B[38;5;28mself\u001B[39m\u001B[38;5;241m.\u001B[39moptions\u001B[38;5;241m.\u001B[39mget(\u001B[38;5;124m\"\u001B[39m\u001B[38;5;124mencoding\u001B[39m\u001B[38;5;124m\"\u001B[39m, \u001B[38;5;28;01mNone\u001B[39;00m),\n\u001B[1;32m   1884\u001B[0m     compression\u001B[38;5;241m=\u001B[39m\u001B[38;5;28mself\u001B[39m\u001B[38;5;241m.\u001B[39moptions\u001B[38;5;241m.\u001B[39mget(\u001B[38;5;124m\"\u001B[39m\u001B[38;5;124mcompression\u001B[39m\u001B[38;5;124m\"\u001B[39m, \u001B[38;5;28;01mNone\u001B[39;00m),\n\u001B[1;32m   1885\u001B[0m     memory_map\u001B[38;5;241m=\u001B[39m\u001B[38;5;28mself\u001B[39m\u001B[38;5;241m.\u001B[39moptions\u001B[38;5;241m.\u001B[39mget(\u001B[38;5;124m\"\u001B[39m\u001B[38;5;124mmemory_map\u001B[39m\u001B[38;5;124m\"\u001B[39m, \u001B[38;5;28;01mFalse\u001B[39;00m),\n\u001B[1;32m   1886\u001B[0m     is_text\u001B[38;5;241m=\u001B[39mis_text,\n\u001B[1;32m   1887\u001B[0m     errors\u001B[38;5;241m=\u001B[39m\u001B[38;5;28mself\u001B[39m\u001B[38;5;241m.\u001B[39moptions\u001B[38;5;241m.\u001B[39mget(\u001B[38;5;124m\"\u001B[39m\u001B[38;5;124mencoding_errors\u001B[39m\u001B[38;5;124m\"\u001B[39m, \u001B[38;5;124m\"\u001B[39m\u001B[38;5;124mstrict\u001B[39m\u001B[38;5;124m\"\u001B[39m),\n\u001B[1;32m   1888\u001B[0m     storage_options\u001B[38;5;241m=\u001B[39m\u001B[38;5;28mself\u001B[39m\u001B[38;5;241m.\u001B[39moptions\u001B[38;5;241m.\u001B[39mget(\u001B[38;5;124m\"\u001B[39m\u001B[38;5;124mstorage_options\u001B[39m\u001B[38;5;124m\"\u001B[39m, \u001B[38;5;28;01mNone\u001B[39;00m),\n\u001B[1;32m   1889\u001B[0m )\n\u001B[1;32m   1890\u001B[0m \u001B[38;5;28;01massert\u001B[39;00m \u001B[38;5;28mself\u001B[39m\u001B[38;5;241m.\u001B[39mhandles \u001B[38;5;129;01mis\u001B[39;00m \u001B[38;5;129;01mnot\u001B[39;00m \u001B[38;5;28;01mNone\u001B[39;00m\n\u001B[1;32m   1891\u001B[0m f \u001B[38;5;241m=\u001B[39m \u001B[38;5;28mself\u001B[39m\u001B[38;5;241m.\u001B[39mhandles\u001B[38;5;241m.\u001B[39mhandle\n",
      "File \u001B[0;32m~/anaconda3/lib/python3.11/site-packages/pandas/io/common.py:873\u001B[0m, in \u001B[0;36mget_handle\u001B[0;34m(path_or_buf, mode, encoding, compression, memory_map, is_text, errors, storage_options)\u001B[0m\n\u001B[1;32m    868\u001B[0m \u001B[38;5;28;01melif\u001B[39;00m \u001B[38;5;28misinstance\u001B[39m(handle, \u001B[38;5;28mstr\u001B[39m):\n\u001B[1;32m    869\u001B[0m     \u001B[38;5;66;03m# Check whether the filename is to be opened in binary mode.\u001B[39;00m\n\u001B[1;32m    870\u001B[0m     \u001B[38;5;66;03m# Binary mode does not support 'encoding' and 'newline'.\u001B[39;00m\n\u001B[1;32m    871\u001B[0m     \u001B[38;5;28;01mif\u001B[39;00m ioargs\u001B[38;5;241m.\u001B[39mencoding \u001B[38;5;129;01mand\u001B[39;00m \u001B[38;5;124m\"\u001B[39m\u001B[38;5;124mb\u001B[39m\u001B[38;5;124m\"\u001B[39m \u001B[38;5;129;01mnot\u001B[39;00m \u001B[38;5;129;01min\u001B[39;00m ioargs\u001B[38;5;241m.\u001B[39mmode:\n\u001B[1;32m    872\u001B[0m         \u001B[38;5;66;03m# Encoding\u001B[39;00m\n\u001B[0;32m--> 873\u001B[0m         handle \u001B[38;5;241m=\u001B[39m \u001B[38;5;28mopen\u001B[39m(\n\u001B[1;32m    874\u001B[0m             handle,\n\u001B[1;32m    875\u001B[0m             ioargs\u001B[38;5;241m.\u001B[39mmode,\n\u001B[1;32m    876\u001B[0m             encoding\u001B[38;5;241m=\u001B[39mioargs\u001B[38;5;241m.\u001B[39mencoding,\n\u001B[1;32m    877\u001B[0m             errors\u001B[38;5;241m=\u001B[39merrors,\n\u001B[1;32m    878\u001B[0m             newline\u001B[38;5;241m=\u001B[39m\u001B[38;5;124m\"\u001B[39m\u001B[38;5;124m\"\u001B[39m,\n\u001B[1;32m    879\u001B[0m         )\n\u001B[1;32m    880\u001B[0m     \u001B[38;5;28;01melse\u001B[39;00m:\n\u001B[1;32m    881\u001B[0m         \u001B[38;5;66;03m# Binary mode\u001B[39;00m\n\u001B[1;32m    882\u001B[0m         handle \u001B[38;5;241m=\u001B[39m \u001B[38;5;28mopen\u001B[39m(handle, ioargs\u001B[38;5;241m.\u001B[39mmode)\n",
      "\u001B[0;31mFileNotFoundError\u001B[0m: [Errno 2] No such file or directory: 'features_cache_test/chunk_0.csv'"
     ]
    }
   ],
   "execution_count": 10
  },
  {
   "metadata": {},
   "cell_type": "code",
   "source": "df_chunk",
   "id": "b186dc4cd7de1d0",
   "outputs": [],
   "execution_count": null
  },
  {
   "metadata": {},
   "cell_type": "code",
   "source": "df_chunk.shape\n",
   "id": "c2d8c91e77ceba2",
   "outputs": [],
   "execution_count": null
  },
  {
   "metadata": {},
   "cell_type": "code",
   "source": "df_chunk.isnull().sum()",
   "id": "7213012ecc40650d",
   "outputs": [],
   "execution_count": null
  },
  {
   "metadata": {},
   "cell_type": "code",
   "source": "",
   "id": "2196f55bdef58c9c",
   "outputs": [],
   "execution_count": null
  }
 ],
 "metadata": {
  "kernelspec": {
   "display_name": "Python 3",
   "language": "python",
   "name": "python3"
  },
  "language_info": {
   "codemirror_mode": {
    "name": "ipython",
    "version": 2
   },
   "file_extension": ".py",
   "mimetype": "text/x-python",
   "name": "python",
   "nbconvert_exporter": "python",
   "pygments_lexer": "ipython2",
   "version": "2.7.6"
  }
 },
 "nbformat": 4,
 "nbformat_minor": 5
}
