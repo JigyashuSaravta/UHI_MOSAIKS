{
 "cells": [
  {
   "cell_type": "code",
   "id": "initial_id",
   "metadata": {
    "collapsed": true,
    "ExecuteTime": {
     "end_time": "2025-06-15T20:43:33.512580Z",
     "start_time": "2025-06-15T20:43:30.941711Z"
    }
   },
   "source": [
    "import main\n",
    "import pandas as pd"
   ],
   "outputs": [
    {
     "name": "stderr",
     "output_type": "stream",
     "text": [
      "/Users/jigs/anaconda3/lib/python3.11/site-packages/geopandas/_compat.py:123: UserWarning: The Shapely GEOS version (3.10.3-CAPI-1.16.1) is incompatible with the GEOS version PyGEOS was compiled with (3.10.4-CAPI-1.16.2). Conversions between both will be slow.\n",
      "  warnings.warn(\n"
     ]
    }
   ],
   "execution_count": 1
  },
  {
   "metadata": {
    "ExecuteTime": {
     "end_time": "2025-06-15T20:43:33.561070Z",
     "start_time": "2025-06-15T20:43:33.545606Z"
    }
   },
   "cell_type": "code",
   "source": [
    "# Load the file\n",
    "df = pd.read_csv(\"Training_data_uhi_index 2025-02-04.csv\")\n",
    "\n",
    "# Preview\n",
    "print(df.shape)\n",
    "print(df.columns)\n",
    "print(df.head())\n",
    "print(df.isnull().sum())\n"
   ],
   "id": "e052616ab58992ae",
   "outputs": [
    {
     "name": "stdout",
     "output_type": "stream",
     "text": [
      "(11269, 4)\n",
      "Index(['Longitude', 'Latitude', 'datetime', 'UHI Index'], dtype='object')\n",
      "   Longitude   Latitude          datetime  UHI Index\n",
      "0 -73.919037  40.814292  24-07-2021 15:53   1.034616\n",
      "1 -73.918978  40.814365  24-07-2021 15:53   1.028125\n",
      "2 -73.918927  40.814433  24-07-2021 15:53   1.028125\n",
      "3 -73.918875  40.814500  24-07-2021 15:53   1.025961\n",
      "4 -73.918827  40.814560  24-07-2021 15:53   1.025961\n",
      "Longitude    0\n",
      "Latitude     0\n",
      "datetime     0\n",
      "UHI Index    0\n",
      "dtype: int64\n"
     ]
    }
   ],
   "execution_count": 2
  },
  {
   "metadata": {
    "ExecuteTime": {
     "end_time": "2025-06-15T20:43:33.577610Z",
     "start_time": "2025-06-15T20:43:33.570204Z"
    }
   },
   "cell_type": "code",
   "source": [
    "df.rename(columns={\n",
    "    'Longitude': 'longitude',\n",
    "    'Latitude': 'latitude',\n",
    "    'datetime': 'timestamp',\n",
    "    'UHI Index': 'uhi_index'\n",
    "}, inplace=True)\n",
    "df['timestamp'] = pd.to_datetime(df['timestamp'], format=\"%d-%m-%Y %H:%M\")"
   ],
   "id": "51028e8f80ef1274",
   "outputs": [],
   "execution_count": 3
  },
  {
   "metadata": {
    "ExecuteTime": {
     "end_time": "2025-06-15T22:37:01.610640Z",
     "start_time": "2025-06-15T20:43:33.584532Z"
    }
   },
   "cell_type": "code",
   "source": [
    "# Run the full batch extraction and save the result\n",
    "features_df = main.batch_extract_features_with_cache(df, chunk_size=500)\n",
    "\n",
    "# Optionally, combine with the original UHI index\n",
    "final_df = pd.concat([df.reset_index(drop=True), features_df], axis=1)\n",
    "\n",
    "# Save for training\n",
    "final_df.to_csv(\"uhi_with_features.csv\", index=False)\n"
   ],
   "id": "6e979af466cefa07",
   "outputs": [
    {
     "name": "stdout",
     "output_type": "stream",
     "text": [
      "[Fetch] Processing chunk 0...\n",
      "[Success] Chunk 0 saved to cache.\n",
      "[Fetch] Processing chunk 1...\n",
      "[Success] Chunk 1 saved to cache.\n",
      "[Fetch] Processing chunk 2...\n",
      "[Success] Chunk 2 saved to cache.\n",
      "[Fetch] Processing chunk 3...\n",
      "[Success] Chunk 3 saved to cache.\n",
      "[Fetch] Processing chunk 4...\n",
      "[Success] Chunk 4 saved to cache.\n",
      "[Fetch] Processing chunk 5...\n",
      "[Success] Chunk 5 saved to cache.\n",
      "[Fetch] Processing chunk 6...\n",
      "[Success] Chunk 6 saved to cache.\n",
      "[Fetch] Processing chunk 7...\n",
      "[Success] Chunk 7 saved to cache.\n",
      "[Fetch] Processing chunk 8...\n",
      "[Success] Chunk 8 saved to cache.\n",
      "[Fetch] Processing chunk 9...\n",
      "[Success] Chunk 9 saved to cache.\n",
      "[Fetch] Processing chunk 10...\n",
      "[Success] Chunk 10 saved to cache.\n",
      "[Fetch] Processing chunk 11...\n",
      "[Success] Chunk 11 saved to cache.\n",
      "[Fetch] Processing chunk 12...\n",
      "[Success] Chunk 12 saved to cache.\n",
      "[Fetch] Processing chunk 13...\n",
      "[Success] Chunk 13 saved to cache.\n",
      "[Fetch] Processing chunk 14...\n",
      "[Success] Chunk 14 saved to cache.\n",
      "[Fetch] Processing chunk 15...\n",
      "[Success] Chunk 15 saved to cache.\n",
      "[Fetch] Processing chunk 16...\n",
      "[Success] Chunk 16 saved to cache.\n",
      "[Fetch] Processing chunk 17...\n",
      "[Success] Chunk 17 saved to cache.\n",
      "[Fetch] Processing chunk 18...\n",
      "[Success] Chunk 18 saved to cache.\n",
      "[Fetch] Processing chunk 19...\n",
      "[Success] Chunk 19 saved to cache.\n",
      "[Fetch] Processing chunk 20...\n",
      "[Success] Chunk 20 saved to cache.\n",
      "[Fetch] Processing chunk 21...\n",
      "[Success] Chunk 21 saved to cache.\n",
      "[Fetch] Processing chunk 22...\n",
      "[Success] Chunk 22 saved to cache.\n"
     ]
    }
   ],
   "execution_count": 4
  },
  {
   "metadata": {
    "ExecuteTime": {
     "end_time": "2025-06-15T22:37:01.698269Z",
     "start_time": "2025-06-15T22:37:01.696195Z"
    }
   },
   "cell_type": "code",
   "source": "",
   "id": "3d8f64bc18ab35f8",
   "outputs": [],
   "execution_count": null
  }
 ],
 "metadata": {
  "kernelspec": {
   "display_name": "Python 3",
   "language": "python",
   "name": "python3"
  },
  "language_info": {
   "codemirror_mode": {
    "name": "ipython",
    "version": 2
   },
   "file_extension": ".py",
   "mimetype": "text/x-python",
   "name": "python",
   "nbconvert_exporter": "python",
   "pygments_lexer": "ipython2",
   "version": "2.7.6"
  }
 },
 "nbformat": 4,
 "nbformat_minor": 5
}
